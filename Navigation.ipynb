{
 "cells": [
  {
   "cell_type": "markdown",
   "metadata": {},
   "source": [
    "# Navigation\n",
    "\n",
    "---\n",
    "\n",
    "This notebook contains report of the first project of the [Deep Reinforcement Learning Nanodegree](https://www.udacity.com/course/deep-reinforcement-learning-nanodegree--nd893).\n",
    "\n",
    "### 1. Configure the Environment\n",
    "\n",
    "We begin by importing some necessary packages."
   ]
  },
  {
   "cell_type": "code",
   "execution_count": 3,
   "metadata": {},
   "outputs": [],
   "source": [
    "from unityagents import UnityEnvironment\n",
    "import numpy as np\n",
    "from collections import deque\n",
    "import matplotlib.pyplot as plt\n",
    "import torch\n",
    "from train import TrainRunner, plot_scores\n",
    "from test import TestRunner"
   ]
  },
  {
   "cell_type": "markdown",
   "metadata": {},
   "source": [
    "Next, **_Before running the code cell below_**, ensure that you got the environment and unzipped it into one of the folders:\n",
    "\n",
    "- **Mac**: `\"Banana.app\"`\n",
    "- **Windows** (x86): `\"./Banana_Windows_x86/Banana.exe\"`\n",
    "- **Windows** (x86_64): `\"./Banana_Windows_x86_64/Banana.exe\"`\n",
    "- **Linux** (x86): `\"./Banana_Linux/Banana.x86\"`\n",
    "- **Linux** (x86_64): `\"./Banana_Linux/Banana.x86_64\"`\n",
    "- **Linux** (x86, headless): `\"./Banana_Linux_NoVis/Banana.x86\"`\n",
    "- **Linux** (x86_64, headless): `\"./Banana_Linux_NoVis/Banana.x86_64\"`\n",
    "\n"
   ]
  },
  {
   "cell_type": "markdown",
   "metadata": {},
   "source": [
    "### Training Agent"
   ]
  },
  {
   "cell_type": "markdown",
   "metadata": {},
   "source": [
    "To train the agent we are going to run the python class `TrainRunner` from `train.py`. The `TrainRunner` will train the network and save it to file `checkpoint.pt` (later on we will be able to test the agent) "
   ]
  },
  {
   "cell_type": "code",
   "execution_count": null,
   "metadata": {},
   "outputs": [],
   "source": [
    "trainer = TrainRunner(\"./Banana_Linux/Banana.x86_64\", \"./checkpoint.pth\")\n",
    "scores = trainer.run()\n",
    "trainer.close()\n",
    "plot_scores(scores)\n"
   ]
  },
  {
   "cell_type": "code",
   "execution_count": null,
   "metadata": {},
   "outputs": [],
   "source": [
    "TestRunner(\"./Banana_Linux/Banana.x86_64\", \"./checkpoint.pth\").run()"
   ]
  },
  {
   "cell_type": "code",
   "execution_count": null,
   "metadata": {},
   "outputs": [],
   "source": []
  },
  {
   "cell_type": "code",
   "execution_count": null,
   "metadata": {},
   "outputs": [],
   "source": []
  }
 ],
 "metadata": {
  "kernelspec": {
   "display_name": "Python 3",
   "language": "python",
   "name": "python3"
  },
  "language_info": {
   "codemirror_mode": {
    "name": "ipython",
    "version": 3
   },
   "file_extension": ".py",
   "mimetype": "text/x-python",
   "name": "python",
   "nbconvert_exporter": "python",
   "pygments_lexer": "ipython3",
   "version": "3.6.11"
  }
 },
 "nbformat": 4,
 "nbformat_minor": 2
}
