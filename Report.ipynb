{
 "cells": [
  {
   "cell_type": "markdown",
   "metadata": {},
   "source": [
    "# Navigation\n",
    "\n",
    "---\n",
    "\n",
    "This notebook contains report of the first project of the [Deep Reinforcement Learning Nanodegree](https://www.udacity.com/course/deep-reinforcement-learning-nanodegree--nd893).\n",
    "\n",
    "### 1. Configure the Environment\n",
    "\n",
    "We begin by importing some necessary packages."
   ]
  },
  {
   "cell_type": "code",
   "execution_count": 2,
   "metadata": {},
   "outputs": [],
   "source": [
    "from unityagents import UnityEnvironment\n",
    "import numpy as np\n",
    "from collections import deque\n",
    "import matplotlib.pyplot as plt\n",
    "import torch\n",
    "from train_agent import TrainRunner, plot_scores\n",
    "from test_agent import TestRunner"
   ]
  },
  {
   "cell_type": "markdown",
   "metadata": {},
   "source": [
    "Next, **_Before running the code cell below_**, ensure that you got the environment and unzipped it into one of the folders:\n",
    "\n",
    "- **Mac**: `\"Banana.app\"`\n",
    "- **Windows** (x86): `\"./Banana_Windows_x86/Banana.exe\"`\n",
    "- **Windows** (x86_64): `\"./Banana_Windows_x86_64/Banana.exe\"`\n",
    "- **Linux** (x86): `\"./Banana_Linux/Banana.x86\"`\n",
    "- **Linux** (x86_64): `\"./Banana_Linux/Banana.x86_64\"`\n",
    "- **Linux** (x86, headless): `\"./Banana_Linux_NoVis/Banana.x86\"`\n",
    "- **Linux** (x86_64, headless): `\"./Banana_Linux_NoVis/Banana.x86_64\"`\n",
    "\n"
   ]
  },
  {
   "cell_type": "markdown",
   "metadata": {},
   "source": [
    "### 2. Training the Agent"
   ]
  },
  {
   "cell_type": "markdown",
   "metadata": {},
   "source": [
    "To train the agent we are going to run the python class `TrainRunner` from `train_agent.py`. The `TrainRunner` will train the network and save it to file `checkpoint.pt` (later on we will be able to test the agent) "
   ]
  },
  {
   "cell_type": "code",
   "execution_count": 2,
   "metadata": {},
   "outputs": [
    {
     "name": "stderr",
     "output_type": "stream",
     "text": [
      "INFO:unityagents:\n",
      "'Academy' started successfully!\n",
      "Unity Academy name: Academy\n",
      "        Number of Brains: 1\n",
      "        Number of External Brains : 1\n",
      "        Lesson number : 0\n",
      "        Reset Parameters :\n",
      "\t\t\n",
      "Unity brain name: BananaBrain\n",
      "        Number of Visual Observations (per agent): 0\n",
      "        Vector Observation space type: continuous\n",
      "        Vector Observation space size (per agent): 37\n",
      "        Number of stacked Vector Observation: 1\n",
      "        Vector Action space type: discrete\n",
      "        Vector Action space size (per agent): 4\n",
      "        Vector Action descriptions: , , , \n"
     ]
    },
    {
     "name": "stdout",
     "output_type": "stream",
     "text": [
      "device:  cuda\n",
      "Episode 100\tAverage Score: 0.79\n",
      "Episode 200\tAverage Score: 4.62\n",
      "Episode 300\tAverage Score: 6.98\n",
      "Episode 400\tAverage Score: 9.79\n",
      "Episode 500\tAverage Score: 11.93\n",
      "Episode 571\tAverage Score: 13.03\n",
      "Environment solved in 471 episodes!\tAverage Score: 13.03\n"
     ]
    }
   ],
   "source": [
    "trainer = TrainRunner(\"./Banana_Linux/Banana.x86_64\", \"./checkpoint.pth\")\n",
    "scores = trainer.run()\n",
    "trainer.close()\n"
   ]
  },
  {
   "cell_type": "code",
   "execution_count": 3,
   "metadata": {},
   "outputs": [
    {
     "data": {
      "image/png": "[encoded data removed]",
      "text/plain": [
       "<Figure size 432x288 with 1 Axes>"
      ]
     },
     "metadata": {
      "needs_background": "light"
     },
     "output_type": "display_data"
    }
   ],
   "source": [
    "plot_scores(scores)"
   ]
  },
  {
   "cell_type": "markdown",
   "metadata": {},
   "source": [
    "### 3. Testing the agent "
   ]
  },
  {
   "cell_type": "code",
   "execution_count": null,
   "metadata": {},
   "outputs": [
    {
     "name": "stderr",
     "output_type": "stream",
     "text": [
      "INFO:unityagents:\n",
      "'Academy' started successfully!\n",
      "Unity Academy name: Academy\n",
      "        Number of Brains: 1\n",
      "        Number of External Brains : 1\n",
      "        Lesson number : 0\n",
      "        Reset Parameters :\n",
      "\t\t\n",
      "Unity brain name: BananaBrain\n",
      "        Number of Visual Observations (per agent): 0\n",
      "        Vector Observation space type: continuous\n",
      "        Vector Observation space size (per agent): 37\n",
      "        Number of stacked Vector Observation: 1\n",
      "        Vector Action space type: discrete\n",
      "        Vector Action space size (per agent): 4\n",
      "        Vector Action descriptions: , , , \n"
     ]
    },
    {
     "name": "stdout",
     "output_type": "stream",
     "text": [
      "device:  cuda\n",
      "rewards:  1.0\n",
      "rewards:  2.0\n",
      "rewards:  3.0\n",
      "rewards:  4.0\n",
      "rewards:  5.0\n",
      "rewards:  6.0\n",
      "rewards:  7.0\n",
      "rewards:  8.0\n",
      "rewards:  9.0\n",
      "rewards:  10.0\n",
      "rewards:  11.0\n",
      "rewards:  12.0\n",
      "rewards:  13.0\n",
      "rewards:  14.0\n",
      "rewards:  15.0\n",
      "rewards:  16.0\n",
      "rewards:  17.0\n"
     ]
    }
   ],
   "source": [
    "TestRunner(\"./Banana_Linux/Banana.x86_64\", \"./checkpoint.pth\").run()"
   ]
  },
  {
   "cell_type": "markdown",
   "metadata": {},
   "source": [
    "### 4. Implementation details"
   ]
  },
  {
   "cell_type": "markdown",
   "metadata": {},
   "source": [
    "The agent is implemented using classical two Deep Q-networks - local and target. Each network consists of 3 linear layers - 128 features each with ReLu activation. \n",
    "\n",
    "The learning algorithm is also classical from the original DQN paper. All user experience is kept in a replay buffer. The episodes are uniformaly sampled from the buffer and passed to the local network. The next action is determined by the maximum value of the network output. The local network is used to get expected outputs while the target network is used to estimate predictions. The mean squared difference between the local and the target network outputs is used as loss function.\n",
    "\n",
    "The target network has fixed parameters that are copied periodically from the local network.\n",
    "\n",
    "Apart from the deep learning component of algorithm, the agent also executes epsilon greedy action selection, the exploration is continuously reduced as the agent becomes more experienced.\n",
    "\n",
    "The hyper parameters for the algorithm are the following:\n",
    "\n",
    "```\n",
    "replay buffer size: 10000\n",
    "minibatch size: 64\n",
    "gamma discount factor: 0.99\n",
    "tau soft update target params: 0.001\n",
    "learning rate:  0.0005\n",
    "update network every: 4 \n",
    "```\n",
    "\n",
    "\n",
    "The architecture of the network is given below:"
   ]
  },
  {
   "cell_type": "markdown",
   "metadata": {},
   "source": [
    "![Deep Q-Network architecture](./banana_network.png)"
   ]
  },
  {
   "cell_type": "markdown",
   "metadata": {},
   "source": [
    "### Ideas for Future Work"
   ]
  },
  {
   "cell_type": "markdown",
   "metadata": {},
   "source": [
    "The future improvements can be the following:\n",
    "- Replay buffer prioritization can help sampling the most important transitions\n",
    "- Double DQN can solve overestimation of action values\n",
    "- Dueling DQN architecture which can learn which states are (or are not) valuable, without having to learn the effect of each action for each state. "
   ]
  },
  {
   "cell_type": "code",
   "execution_count": null,
   "metadata": {},
   "outputs": [],
   "source": []
  },
  {
   "cell_type": "code",
   "execution_count": null,
   "metadata": {},
   "outputs": [],
   "source": []
  }
 ],
 "metadata": {
  "kernelspec": {
   "display_name": "Python 3",
   "language": "python",
   "name": "python3"
  },
  "language_info": {
   "codemirror_mode": {
    "name": "ipython",
    "version": 3
   },
   "file_extension": ".py",
   "mimetype": "text/x-python",
   "name": "python",
   "nbconvert_exporter": "python",
   "pygments_lexer": "ipython3",
   "version": "3.6.11"
  }
 },
 "nbformat": 4,
 "nbformat_minor": 2
}
